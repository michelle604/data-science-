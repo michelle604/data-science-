{
 "cells": [
  {
   "cell_type": "code",
   "execution_count": 9,
   "metadata": {},
   "outputs": [
    {
     "name": "stdout",
     "output_type": "stream",
     "text": [
      "mean= 9.857142857142858\n",
      "medium= 10.0\n",
      "mode= 8\n",
      "varience= 7.476190476190475\n",
      "s= 2.734262327610589\n",
      "se= 1.03345401972\n"
     ]
    }
   ],
   "source": [
    "import numpy as np\n",
    "import pandas as pd\n",
    "import matplotlib.pyplot as plt\n",
    "import statistics\n",
    "\n",
    "# Make a blank data frame.\n",
    "df = pd.DataFrame()\n",
    "\n",
    "# Populate it with data.\n",
    "df['age'] = [14, 12, 11, 10, 8, 8, 6]\n",
    "print(\"mean=\",np.mean(df['age']))\n",
    "print(\"medium=\",np.median(df['age']))\n",
    "print(\"mode=\",statistics.mode(df['age']))\n",
    "print(\"varience=\",df['age'].var())\n",
    "print(\"s=\",np.std(df['age'], ddof=1))\n",
    "print(\"se=\",np.std(df['age'] ,ddof=1) / np.sqrt(len(df['age'])))"
   ]
  },
  {
   "cell_type": "code",
   "execution_count": 10,
   "metadata": {
    "collapsed": true
   },
   "outputs": [],
   "source": [
    "#varience, it is more precise to describle the data"
   ]
  },
  {
   "cell_type": "code",
   "execution_count": 20,
   "metadata": {},
   "outputs": [
    {
     "name": "stdout",
     "output_type": "stream",
     "text": [
      "mean= 10.0\n",
      "medium= 10.0\n",
      "mode= 8\n",
      "varience= 6.333333333333333\n",
      "s= 2.516611478423583\n",
      "se= 0.951189731211\n"
     ]
    }
   ],
   "source": [
    "# Make a blank data frame.\n",
    "df = pd.DataFrame()\n",
    "\n",
    "# Populate it with data.\n",
    "df['age'] = [14, 12, 11, 10, 8, 8, 7]\n",
    "print(\"mean=\",np.mean(df['age']))\n",
    "print(\"medium=\",np.median(df['age']))\n",
    "print(\"mode=\",statistics.mode(df['age']))\n",
    "print(\"varience=\",df['age'].var())\n",
    "print(\"s=\",np.std(df['age'], ddof=1))\n",
    "print(\"se=\",np.std(df['age'] ,ddof=1) / np.sqrt(len(df['age'])))\n"
   ]
  },
  {
   "cell_type": "code",
   "execution_count": null,
   "metadata": {
    "collapsed": true
   },
   "outputs": [],
   "source": [
    "#medium and mode didn't change"
   ]
  },
  {
   "cell_type": "code",
   "execution_count": 19,
   "metadata": {},
   "outputs": [
    {
     "name": "stdout",
     "output_type": "stream",
     "text": [
      "mean= 9.0\n",
      "medium= 10.0\n",
      "mode= no\n",
      "varience= 18.0\n",
      "s= 4.242640687119285\n",
      "se= 1.60356745147\n"
     ]
    }
   ],
   "source": [
    "# Make a blank data frame.\n",
    "df = pd.DataFrame()\n",
    "\n",
    "# Populate it with data.\n",
    "df['age'] = [14, 12, 11, 10, 8, 7, 1]\n",
    "print(\"mean=\",np.mean(df['age']))\n",
    "print(\"medium=\",np.median(df['age']))\n",
    "print(\"mode= no\")\n",
    "print(\"varience=\",df['age'].var())\n",
    "print(\"s=\",np.std(df['age'], ddof=1))\n",
    "print(\"se=\",np.std(df['age'] ,ddof=1) / np.sqrt(len(df['age'])))\n"
   ]
  },
  {
   "cell_type": "code",
   "execution_count": null,
   "metadata": {
    "collapsed": true
   },
   "outputs": [],
   "source": [
    "#the value of variance estimation is changed,but the medium is not changed, and there is no mode anymore"
   ]
  },
  {
   "cell_type": "code",
   "execution_count": 16,
   "metadata": {
    "collapsed": true
   },
   "outputs": [],
   "source": [
    "# SciPhi Fanatic is a outlier\n",
    "# whereas the others are more general and represent\n",
    "# a better sample\n",
    "# so we average those three\n",
    "# answer: 20%, approximately"
   ]
  },
  {
   "cell_type": "code",
   "execution_count": null,
   "metadata": {},
   "outputs": [],
   "source": []
  },
  {
   "cell_type": "code",
   "execution_count": null,
   "metadata": {
    "collapsed": true
   },
   "outputs": [],
   "source": []
  }
 ],
 "metadata": {
  "kernelspec": {
   "display_name": "Python 3",
   "language": "python",
   "name": "python3"
  },
  "language_info": {
   "codemirror_mode": {
    "name": "ipython",
    "version": 3
   },
   "file_extension": ".py",
   "mimetype": "text/x-python",
   "name": "python",
   "nbconvert_exporter": "python",
   "pygments_lexer": "ipython3",
   "version": "3.6.1"
  }
 },
 "nbformat": 4,
 "nbformat_minor": 2
}
